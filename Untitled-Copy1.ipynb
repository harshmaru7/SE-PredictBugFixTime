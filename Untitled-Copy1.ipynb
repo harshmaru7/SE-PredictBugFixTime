{
 "cells": [
  {
   "cell_type": "code",
   "execution_count": 3,
   "metadata": {},
   "outputs": [],
   "source": [
    "import pandas as pd  \n",
    "import numpy as np  \n",
    "import matplotlib.pyplot as plt  \n",
    "import seaborn as seabornInstance \n",
    "from sklearn.model_selection import train_test_split \n",
    "from sklearn.linear_model import LinearRegression\n",
    "from sklearn import metrics\n",
    "%matplotlib inline"
   ]
  },
  {
   "cell_type": "code",
   "execution_count": 4,
   "metadata": {},
   "outputs": [],
   "source": [
    "head=[\"id\",\"date_time\",\"flag\",\"option\"]\n",
    "\n",
    "temporal_dataset = pd.read_csv(\"temporal_activity.csv\",header=None)\n",
    "temporal_dataset.columns=head\n",
    "temporal_dataset[\"date_time\"]=pd.to_datetime(temporal_dataset[\"date_time\"])\n",
    "\n",
    "compressed_set = temporal_dataset.groupby(['id'])['flag'].apply(lambda x: \"%s\" % ''.join(x)).reset_index()"
   ]
  },
  {
   "cell_type": "code",
   "execution_count": 5,
   "metadata": {},
   "outputs": [
    {
     "name": "stdout",
     "output_type": "stream",
     "text": [
      "            id        flag\n",
      "0       322067        NWCZ\n",
      "1       322075          NZ\n",
      "2       322077  NAVCVVVYLZ\n",
      "3       322080      NCWCCZ\n",
      "4       322081        NCCZ\n",
      "...        ...         ...\n",
      "86437  1116604      MPQPCZ\n",
      "86438  1116618         NCZ\n",
      "86439  1116656        NCCZ\n",
      "86440  1116679       NQCQZ\n",
      "86441  1116689        NCCZ\n",
      "\n",
      "[86442 rows x 2 columns]\n"
     ]
    }
   ],
   "source": [
    "print(compressed_set)\n"
   ]
  },
  {
   "cell_type": "code",
   "execution_count": 6,
   "metadata": {},
   "outputs": [],
   "source": [
    "temporal_dataset = pd.read_csv(\"noofdays.csv\")\n"
   ]
  },
  {
   "cell_type": "code",
   "execution_count": null,
   "metadata": {},
   "outputs": [],
   "source": []
  }
 ],
 "metadata": {
  "kernelspec": {
   "display_name": "Python 3",
   "language": "python",
   "name": "python3"
  },
  "language_info": {
   "codemirror_mode": {
    "name": "ipython",
    "version": 3
   },
   "file_extension": ".py",
   "mimetype": "text/x-python",
   "name": "python",
   "nbconvert_exporter": "python",
   "pygments_lexer": "ipython3",
   "version": "3.6.9"
  }
 },
 "nbformat": 4,
 "nbformat_minor": 2
}
